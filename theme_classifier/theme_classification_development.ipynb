{
 "cells": [
  {
   "cell_type": "code",
   "execution_count": 4,
   "id": "5c104633",
   "metadata": {},
   "outputs": [
    {
     "name": "stderr",
     "output_type": "stream",
     "text": [
      "/Users/Pranshu/Desktop/Project/NLP_Series Analysis/gradio_venv/lib/python3.9/site-packages/urllib3/__init__.py:35: NotOpenSSLWarning: urllib3 v2 only supports OpenSSL 1.1.1+, currently the 'ssl' module is compiled with 'LibreSSL 2.8.3'. See: https://github.com/urllib3/urllib3/issues/3020\n",
      "  warnings.warn(\n",
      "/Users/Pranshu/Desktop/Project/NLP_Series Analysis/gradio_venv/lib/python3.9/site-packages/tqdm/auto.py:21: TqdmWarning: IProgress not found. Please update jupyter and ipywidgets. See https://ipywidgets.readthedocs.io/en/stable/user_install.html\n",
      "  from .autonotebook import tqdm as notebook_tqdm\n"
     ]
    }
   ],
   "source": [
    "from transformers import pipeline\n",
    "from nltk import sent_tokenize\n",
    "import nltk\n",
    "import torch\n",
    "from glob import glob\n",
    "import pandas as pd\n",
    "import numpy as np"
   ]
  },
  {
   "cell_type": "code",
   "execution_count": 5,
   "id": "e3039824",
   "metadata": {},
   "outputs": [
    {
     "name": "stderr",
     "output_type": "stream",
     "text": [
      "[nltk_data] Downloading package punkt to /Users/Pranshu/nltk_data...\n",
      "[nltk_data]   Package punkt is already up-to-date!\n"
     ]
    },
    {
     "data": {
      "text/plain": [
       "True"
      ]
     },
     "execution_count": 5,
     "metadata": {},
     "output_type": "execute_result"
    }
   ],
   "source": [
    "nltk.download('punkt')"
   ]
  },
  {
   "cell_type": "markdown",
   "id": "af609f6d",
   "metadata": {},
   "source": [
    "# LOAD MODEL\n"
   ]
  },
  {
   "cell_type": "code",
   "execution_count": 6,
   "id": "9d522215",
   "metadata": {},
   "outputs": [],
   "source": [
    "model_name = \"facebook/bart-large-mnli\"\n",
    "device = 0 if torch.cuda.is_available() else 'cpu'"
   ]
  },
  {
   "cell_type": "code",
   "execution_count": 7,
   "id": "37b50b99",
   "metadata": {},
   "outputs": [],
   "source": [
    "def load_model(model_name):\n",
    "    theme_classifier = pipeline(\"zero-shot-classification\", model=model_name, device=device)\n",
    "    return theme_classifier"
   ]
  },
  {
   "cell_type": "code",
   "execution_count": 8,
   "id": "0057c963",
   "metadata": {},
   "outputs": [
    {
     "name": "stderr",
     "output_type": "stream",
     "text": [
      "/Users/Pranshu/Desktop/Project/NLP_Series Analysis/gradio_venv/lib/python3.9/site-packages/transformers/tokenization_utils_base.py:1601: FutureWarning: `clean_up_tokenization_spaces` was not set. It will be set to `True` by default. This behavior will be depracted in transformers v4.45, and will be then set to `False` by default. For more details check this issue: https://github.com/huggingface/transformers/issues/31884\n",
      "  warnings.warn(\n"
     ]
    }
   ],
   "source": [
    "theme_classifier = load_model(model_name)\n"
   ]
  },
  {
   "cell_type": "code",
   "execution_count": 9,
   "id": "d3e8e3cd",
   "metadata": {},
   "outputs": [],
   "source": [
    "theme_list = [\"friendship\",\"hope\",\"sacrifice\",\"battle\",\"self development\",\"betrayal\",\"love\",\"dialogue\"]"
   ]
  },
  {
   "cell_type": "code",
   "execution_count": 10,
   "id": "5647703c",
   "metadata": {},
   "outputs": [
    {
     "data": {
      "text/plain": [
       "{'sequence': 'i will never hit you again',\n",
       " 'labels': ['sacrifice',\n",
       "  'self development',\n",
       "  'battle',\n",
       "  'betrayal',\n",
       "  'hope',\n",
       "  'love',\n",
       "  'friendship',\n",
       "  'dialogue'],\n",
       " 'scores': [0.7218785285949707,\n",
       "  0.5974742770195007,\n",
       "  0.4086676239967346,\n",
       "  0.3647564947605133,\n",
       "  0.2574174404144287,\n",
       "  0.08031746000051498,\n",
       "  0.07949194312095642,\n",
       "  0.028260555118322372]}"
      ]
     },
     "execution_count": 10,
     "metadata": {},
     "output_type": "execute_result"
    }
   ],
   "source": [
    "theme_classifier(\n",
    "    \"i will never hit you again\",\n",
    "    theme_list,\n",
    "    multi_label=True\n",
    ")"
   ]
  },
  {
   "cell_type": "markdown",
   "id": "98ee99ed",
   "metadata": {},
   "source": [
    "# load dataset\n"
   ]
  },
  {
   "cell_type": "code",
   "execution_count": 11,
   "id": "f861bb8a",
   "metadata": {},
   "outputs": [],
   "source": [
    "files = glob('../data/Subtitles/*.ass')\n",
    "files = sorted(files)"
   ]
  },
  {
   "cell_type": "code",
   "execution_count": 12,
   "id": "d3525cb8",
   "metadata": {},
   "outputs": [],
   "source": [
    "with open(files[0],'r') as file:\n",
    "    lines = file.readlines()\n",
    "    lines = lines[27:]\n",
    "    lines = [ ','.join(line.split(',')[9:]) for line in lines ]"
   ]
  },
  {
   "cell_type": "code",
   "execution_count": 13,
   "id": "cd445ad0",
   "metadata": {},
   "outputs": [
    {
     "data": {
      "text/plain": [
       "['A long time ago, a powerful demon fox\\\\Nappeared with nine tails.\\n',\n",
       " 'With its powerful tails,\\n',\n",
       " 'it could smash mountains\\\\Nand create tidal waves.\\n',\n",
       " 'A band of Ninjas rose to\\\\Ndefend their village from attack.\\n']"
      ]
     },
     "execution_count": 13,
     "metadata": {},
     "output_type": "execute_result"
    }
   ],
   "source": [
    "lines[:4]"
   ]
  },
  {
   "cell_type": "code",
   "execution_count": 14,
   "id": "b4c57967",
   "metadata": {},
   "outputs": [],
   "source": [
    "lines = [ line.replace('\\\\N',' ') for line in lines]"
   ]
  },
  {
   "cell_type": "code",
   "execution_count": 15,
   "id": "2b20c5b0",
   "metadata": {},
   "outputs": [
    {
     "data": {
      "text/plain": [
       "['A long time ago, a powerful demon fox appeared with nine tails.\\n',\n",
       " 'With its powerful tails,\\n',\n",
       " 'it could smash mountains and create tidal waves.\\n',\n",
       " 'A band of Ninjas rose to defend their village from attack.\\n']"
      ]
     },
     "execution_count": 15,
     "metadata": {},
     "output_type": "execute_result"
    }
   ],
   "source": [
    "lines[:4]"
   ]
  },
  {
   "cell_type": "code",
   "execution_count": 16,
   "id": "4f2870fe",
   "metadata": {},
   "outputs": [
    {
     "data": {
      "text/plain": [
       "'../data/Subtitles/Naruto Season 1 - 01.ass'"
      ]
     },
     "execution_count": 16,
     "metadata": {},
     "output_type": "execute_result"
    }
   ],
   "source": [
    "files[0]"
   ]
  },
  {
   "cell_type": "code",
   "execution_count": 17,
   "id": "51a1cf7f",
   "metadata": {},
   "outputs": [
    {
     "data": {
      "text/plain": [
       "1"
      ]
     },
     "execution_count": 17,
     "metadata": {},
     "output_type": "execute_result"
    }
   ],
   "source": [
    "int(files[0].split('-')[-1].split('.')[0].strip())"
   ]
  },
  {
   "cell_type": "code",
   "execution_count": 18,
   "id": "6ba24b7a",
   "metadata": {},
   "outputs": [],
   "source": [
    "def load_subtitles_dataset(dataset_path):\n",
    "    subtitile_path = glob(dataset_path+'/*.ass')\n",
    "    subtitile_path = sorted(subtitile_path)\n",
    "\n",
    "    scripts = []\n",
    "    episode_num = []\n",
    "\n",
    "    for path in subtitile_path:\n",
    "        with open(path,'r') as file:\n",
    "            lines = file.readlines()\n",
    "            lines = lines[27:]\n",
    "            lines = [ ','.join(line.split(',')[9:]) for line in lines ]\n",
    "            \n",
    "        lines = [ line.replace('\\\\N',' ') for line in lines]\n",
    "        script = \" \".join(lines)\n",
    "        episode = int(path.split('-')[-1].split('.')[0].strip())\n",
    "        \n",
    "        scripts.append(script)\n",
    "        episode_num.append(episode)\n",
    "\n",
    "    df = pd.DataFrame.from_dict({'episode':episode_num,'script':scripts})\n",
    "    return df"
   ]
  },
  {
   "cell_type": "code",
   "execution_count": 19,
   "id": "7f70b788",
   "metadata": {},
   "outputs": [
    {
     "data": {
      "text/html": [
       "<div>\n",
       "<style scoped>\n",
       "    .dataframe tbody tr th:only-of-type {\n",
       "        vertical-align: middle;\n",
       "    }\n",
       "\n",
       "    .dataframe tbody tr th {\n",
       "        vertical-align: top;\n",
       "    }\n",
       "\n",
       "    .dataframe thead th {\n",
       "        text-align: right;\n",
       "    }\n",
       "</style>\n",
       "<table border=\"1\" class=\"dataframe\">\n",
       "  <thead>\n",
       "    <tr style=\"text-align: right;\">\n",
       "      <th></th>\n",
       "      <th>episode</th>\n",
       "      <th>script</th>\n",
       "    </tr>\n",
       "  </thead>\n",
       "  <tbody>\n",
       "    <tr>\n",
       "      <th>0</th>\n",
       "      <td>1</td>\n",
       "      <td>A long time ago, a powerful demon fox appeared...</td>\n",
       "    </tr>\n",
       "    <tr>\n",
       "      <th>1</th>\n",
       "      <td>2</td>\n",
       "      <td>C'mon!\\n Running like a fugitive,\\n Being chas...</td>\n",
       "    </tr>\n",
       "    <tr>\n",
       "      <th>2</th>\n",
       "      <td>3</td>\n",
       "      <td>C'mon!\\n Running like a fugitive,\\n Being chas...</td>\n",
       "    </tr>\n",
       "    <tr>\n",
       "      <th>3</th>\n",
       "      <td>4</td>\n",
       "      <td>C'mon!\\n Running like a fugitive,\\n Being chas...</td>\n",
       "    </tr>\n",
       "    <tr>\n",
       "      <th>4</th>\n",
       "      <td>5</td>\n",
       "      <td>C'mon!\\n Running like a fugitive,\\n Being chas...</td>\n",
       "    </tr>\n",
       "  </tbody>\n",
       "</table>\n",
       "</div>"
      ],
      "text/plain": [
       "   episode                                             script\n",
       "0        1  A long time ago, a powerful demon fox appeared...\n",
       "1        2  C'mon!\\n Running like a fugitive,\\n Being chas...\n",
       "2        3  C'mon!\\n Running like a fugitive,\\n Being chas...\n",
       "3        4  C'mon!\\n Running like a fugitive,\\n Being chas...\n",
       "4        5  C'mon!\\n Running like a fugitive,\\n Being chas..."
      ]
     },
     "execution_count": 19,
     "metadata": {},
     "output_type": "execute_result"
    }
   ],
   "source": [
    "dataset_path = '../data/Subtitles'\n",
    "df = load_subtitles_dataset(dataset_path)\n",
    "df.head()"
   ]
  },
  {
   "cell_type": "markdown",
   "id": "6b04c02e",
   "metadata": {},
   "source": [
    "# Run Model"
   ]
  },
  {
   "cell_type": "code",
   "execution_count": 20,
   "id": "f9355dee",
   "metadata": {},
   "outputs": [
    {
     "data": {
      "text/plain": [
       "'A long time ago, a powerful demon fox appeared with nine tails.\\n With its powerful tails,\\n it could smash mountains and create tidal waves.\\n A band of Ninjas rose to defend their village from attack.\\n We have to wait until the Fourth Hokage gets here!\\n We can\\'t let it get any closer to our village!\\n One great Ninja was able to imprison the monster,\\n but died in the process.\\n This Ninja was known as… the Fourth Hokage.\\n Naruto!\\n Why did you do such a thing?!\\n You\\'re really gonna get it this time!\\n I don\\'t care!\\n You know your problem?\\n You can\\'t do the things I do!\\n Only I can do this!\\n I\\'m better than all of you! Believe it!\\n There\\'s a problem, sir!\\n Lord Hokage!\\n What is it?\\n Did that Naruto do something again?\\n Yes. He climbed onto the Mountainside Images…\\n And he vandalized and graffitied all over them!\\n Wait!\\n Ha ha…\\n Why should I?\\n Hey, Naruto!\\n How did you suddenly get here, lruka Sensei?\\n The question is what are you doing here when you should be in class now?\\n Now listen, Naruto.\\n You failed the last graduation test and the one before that.\\n This is no time to be goofing off, you fool!\\n We will have a re-test on the Transformation Jutsu!\\n Even those who already passed will take it!\\n Whaaaat?!\\n Sakura Haruno. Here I go…\\n Transform!\\n OK!\\n I did it!\\n Cha!\\n Did you see that, Sasuke?\\n Next, Sasuke Uchiha.\\n Yes.\\n O-OK.\\n Next, Naruto Uzumaki.\\n This is a real pain.\\n And it\\'s all your fault.\\n Like I care!!\\n OK…\\n Good luck, Naruto…\\n Transform!\\n How was it?\\n I call it the \"Sexy Jutsu\"!\\n You fool! Stop making idiotic spells!\\n Darn…\\n Darn…\\n I won\\'t let you go home unless you clean that all up.\\n I don\\'t care…\\n There\\'s nobody home anyway.\\n Naruto...\\n What is it this time?\\n What I meant was…\\n If you clean up all that mess, I\\'ll buy you ramen tonight.\\n Huh?!\\n Yes! I-I will finish it no time!\\n Enter: Naruto Uzumaki!\\n Naruto.\\n Why did you vandalize those faces?\\n Don\\'t you know who the Hokage leaders are?\\n Of course, I do!\\n I know they earned the title Lord Hokage\\n because they were the best Ninja of their time, right?\\n Especially the Fourth Hokage was a hero\\n who saved the village from the nine-tail demon fox.\\n Then why did you do that?\\n Because I\\'ll become a Hokage myself.\\n And I\\'ll be the greatest Hokage of all time!\\n So that everyone will finally learn to accept me!\\n By the way, Sensei, I have a favor to ask.\\n You want another bowl?\\n Mmmm…No…\\n Can I borrow that Leaf headband for a while?\\n This?\\n No no!\\n This is worn only by those who have graduated from Ninja Academy.\\n Tomorrow, you will…\\n You\\'re so mean!\\n So that\\'s why you took off your goggles…\\n Humph... One more bowl please!\\n We are now about to begin the graduation test.\\n When your name is called, proceed to the next classroom.\\n The test is on the Clone Jutsu.\\n Oh no…\\n Of all the…! That is my weakest Jutsu!\\n But still… I will do it no matter what!\\n Clone Jutsu!\\n Disqualified!\\n Iruka Sensei.\\n His physical coordination and stamina are excellent.\\n And he managed to come up with something.\\n Isn\\'t that enough for him to pass?\\n Mizuki Sensei... All the others created three or more clones.\\n Naruto created just one.\\n And it\\'s practically useless. I can\\'t give him a passing mark.\\n I \\'m a Ninja now!\\n You did well. That\\'s my son.\\n Congratulations for your graduation.\\n I\\'ll cook something good tonight!\\n Look at that one.\\n It\\'s that boy. I hear he\\'s the only one who failed.\\n Serves him right.\\n Imagine what would happen if he became a Ninja.\\n Isn\\'t that the boy who is actually…\\n Hey! We\\'re not supposed to talk about that.\\n Iruka. We need to talk later.\\n Yes, sir.\\n Iruka Sensei isn\\'t trying to be mean to you.\\n Then why only me?\\n He wants you to become strong from the bottom of his heart.\\n You both don\\'t have parents.\\n But I really wanted to graduate.\\n Heh... I guess I have no choice…\\n I\\'ll let you in on a big secret.\\n Secret?\\n Iruka.\\n What is it, Lord Hokage?\\n I know how you feel. But…\\n Naruto also grew up without knowing the love of his parents…like you.\\n Let me go!\\n My mom and dad are still out there fighting!\\n Wake up, Iruka Sensei!\\n What\\'s the matter?\\n Come to Lord Hokage\\'s immediately!\\n I heard that Naruto… stole the Scroll of Sealing.\\n The Scroll of Sealing?!\\n Let\\'s see…\\n The first Jutsu is… Multi-Shadow Clone Jutsu?\\n What?! Already a Jutsu I\\'m no good at?\\n Lord Hokage! We can\\'t forgive him!\\n This is not just a prank!\\n The Scroll is a dangerous item that the First Hokage sealed!\\n Depending on its use…\\n It will be a major disaster if it is taken out of the village!\\n Yes. Bring Naruto here at once!\\n Yes, sir!\\n Where did you go…Naruto?\\n I will tell everyone in the village about this and eliminate Naruto…\\n Then the Scroll of Sealing will be mine!\\n Hey you, Naruto!\\n You found me..\\n And I\\'ve only learned one Jutsu.\\n He\\'s been practicing the Jutsu…\\n until he\\'s become this exhausted and dirty…?\\n Listen, listen! I\\'m gonna show you this amazing Jutsu!\\n You\\'re gonna let me graduate if I can do it!\\n Isn\\'t it true that I can graduate if I can do one of the Jutsu written here?\\n Who told you that?\\n Mizuki Sensei. He told me about this scroll, and this place…\\n Mizuki did?!\\n I\\'m impressed you found this place.\\n I see now…how it is.\\n Naruto, give me that scroll.\\n Wait, wait… What\\'s going on here?\\n Naruto! Never give him that scroll!\\n It is a dangerous object that contains forbidden Ninja Jutsu. It was sealed.\\n Mizuki used you in order to get it for himself!\\n W-Wha--?\\n Naruto, Iruka is only afraid of you holding that scroll!\\n Huh?\\n What are you saying, Mizuki! Don\\'t let him fool you, Naruto!\\n I will tell you the truth.\\n Idiot! Don\\'t do that!\\n After an incident 12 years ago, a rule was created.\\n A rule?\\n That is, Naruto, a rule everybody but you knows.\\n Except me?! \\t\\t\\t\\t\\tWhat is it?\\n Stop it, Mizuki!\\n The rule forbids anyone from revealing that you are actually the Demon Fox Spirit!\\n Huh?\\n You are actually the Demon, Nine-Tailed Fox Spirit,\\n who killed Iruka\\'s parents and destroyed our village!\\n Stop it!\\n Everyone has been deceiving you ever since.\\n Didn\\'t you find it strange?\\n Why everyone hated you so much?\\n No! No! No! No! No!\\n Naruto…\\n Nobody accepts you. That\\'s why Iruka hates you so much!\\n Iruka... Naruto grew up without the love of parents.\\n Everyone avoids him like the plague after what happened.\\n That\\'s why he keeps misbehaving.\\n It\\'s the only way for him to get any attention or acknowledgement.\\n He pretends to be tough, but inside he is really hurting.\\n Die, Naruto!\\n Naruto! \\t\\t\\t\\t\\tGet down!\\n Why…?\\n Because you and I are the same.\\n After my parents died,\\n nobody paid attention to me or gave me any support.\\n I wasn\\'t a good student in school.\\n I was the class clown… because I wanted people to notice me.\\n I couldn\\'t get noticed through excellence, so I kept doing stupid things.\\n It was so hard.\\n Isn\\'t that right, Naruto?\\n You felt so lonely…right? And you suffered inside, right?\\n I\\'m sorry, Naruto….\\n If I had been more responsible, maybe you wouldn\\'t have suffered so much.\\n Don\\'t make me laugh!\\n Iruka has always hated you, ever since you killed his parents!\\n He\\'s just saying all that to get the Scroll of Sealing back!\\n Naruto!\\n Narutoooooo!\\n He is not the type of kid who will change his mind.\\n He will take revenge against our village using that scroll!\\n Didn\\'t you see his eyes? Those are the eyes of a Demon Fox.\\n No… Naruto…isn\\'t…like that at all!\\n All I want is to kill Naruto and get the scroll.\\n I\\'ll take care of you later!\\n I-I won\\'t let you…\\n Well, well.\\n Mizuki has a big mouth!\\n Naruto feels worse than he\\'s ever felt.\\n He might unleash the power locked up inside him.\\n The Scroll of Sealing is now with him.\\n There\\'s a slight chance he might actually release\\n the Nine-Tailed Fox Spirit sealed inside him!\\n If that happens…\\n I\\'ve found him!\\n Naruto!\\n Everything that Mizuki said was a lie!\\n Give me that scroll, quick! Mizuki is after the scroll!\\n It can\\'t be…\\n Why is it, Naruto?\\n How…\\n did you know I wasn\\'t Iruka…?\\n Because I\\'m Iruka.\\n I see.\\n What\\'s in it for you to protect the one who killed your family?\\n I\\'m not gonna let a stupid idiot like you get that scroll!\\n You\\'re the idiot. Naruto is the same as me.\\n Same?\\n Anyone can do whatever he wants once he has the scroll.\\n There is no way that that monster…\\n that Fox Spirit, won\\'t take advantage of the power of that scroll!\\n You\\'re right…\\n I guess it was true all along!\\n See, Iruka Sensei never really cared for me at all!\\n ...if he was the Demon Fox Spirit.\\n But Naruto is different!\\n I know that he is an exceptional student.\\n He works very hard,\\n and he\\'s single-minded and clumsy at the same time.\\n No one accepts him, but he knows the meaning of human suffering.\\n He is not the Demon Fox Spirit.\\n He\\'s Naruto Uzumaki of the Village Hidden in the Leaves!\\n You are so gullible. \\t\\t\\t\\t\\tlruka!\\n I was gonna take you down later, but I have changed my mind.\\n Die!\\n I guess this is the end for me…\\n Naruto?!\\n You surprised me there, freak.\\n If you ever lay a hand on Iruka Sensei, I\\'ll kill you!\\n Shut up! I can take care of a kid like you with a single blow!\\n Why don\\'t you try then? I\\'ll strike you back a thousand-fold!\\n Let\\'s see you try! Show me what you can do, Demon Fox!\\n Shadow Clone Jutsu!\\n Naruto! You\\'ve…\\n Those aren\\'t just images but actual clones! That\\'s an advanced Ninjutsu!\\n What\\'s this…?\\n What\\'s the matter? \\t\\t\\t\\t\\tC\\'mon!\\n Weren\\'t you gonna get me with one blow? Here!\\n In that case… I\\'ll come to you.\\n I kinda got carried away. lruka Sensei, are you okay?\\n Yeah.\\n He\\'s really something.\\n Maybe it is true.\\n Maybe he will surpass all the Hokage leaders…\\n Naruto, come over here. I\\'d like to give you something.\\n Has anyone found Naruto yet?\\n No.\\n Darn, this is going to be bad…\\n There\\'s no need to worry anymore.\\n Lord Hokage!\\n He\\'ll be back soon.\\n Sensei, how much longer?\\n OK, you may open your eyes now.\\n Congratulations…on your graduation.\\n In celebration, we\\'ll have ramen tonight!\\n Iruka Sensei!\\n That hurts!\\n Naruto…\\n I was going to lecture to you...\\n that the road gets more difficult now that you\\'re a Ninja.\\n But I guess I\\'ll just wait to tell you that until we get to the ramen stand…\\n W-What do you want, you little shrimp? Quit following me!\\n You\\'re smaller than me and\\n you\\'re saying that you\\'re gonna become the Fifth Hokage?\\n I don\\'t care if you are the 3rd Hokage\\'s grandson or not.\\n It\\'s not that easy to be a Hokage!\\n If you want it that bad, you\\'re gonna have to beat me first!\\n Next episode:  \"My Name Is Konohamaru!\"\\n Watch my outstanding performance!\\n'"
      ]
     },
     "execution_count": 20,
     "metadata": {},
     "output_type": "execute_result"
    }
   ],
   "source": [
    "script = df.iloc[0]['script']\n",
    "script"
   ]
  },
  {
   "cell_type": "code",
   "execution_count": 21,
   "id": "678d00ca",
   "metadata": {},
   "outputs": [
    {
     "data": {
      "text/plain": [
       "['A long time ago, a powerful demon fox appeared with nine tails.',\n",
       " 'With its powerful tails,\\n it could smash mountains and create tidal waves.',\n",
       " 'A band of Ninjas rose to defend their village from attack.',\n",
       " 'We have to wait until the Fourth Hokage gets here!',\n",
       " \"We can't let it get any closer to our village!\",\n",
       " 'One great Ninja was able to imprison the monster,\\n but died in the process.',\n",
       " 'This Ninja was known as… the Fourth Hokage.',\n",
       " 'Naruto!',\n",
       " 'Why did you do such a thing?!',\n",
       " \"You're really gonna get it this time!\",\n",
       " \"I don't care!\",\n",
       " 'You know your problem?',\n",
       " \"You can't do the things I do!\",\n",
       " 'Only I can do this!',\n",
       " \"I'm better than all of you!\",\n",
       " 'Believe it!',\n",
       " \"There's a problem, sir!\",\n",
       " 'Lord Hokage!',\n",
       " 'What is it?',\n",
       " 'Did that Naruto do something again?',\n",
       " 'Yes.',\n",
       " 'He climbed onto the Mountainside Images…\\n And he vandalized and graffitied all over them!',\n",
       " 'Wait!',\n",
       " 'Ha ha…\\n Why should I?',\n",
       " 'Hey, Naruto!',\n",
       " 'How did you suddenly get here, lruka Sensei?',\n",
       " 'The question is what are you doing here when you should be in class now?',\n",
       " 'Now listen, Naruto.',\n",
       " 'You failed the last graduation test and the one before that.',\n",
       " 'This is no time to be goofing off, you fool!',\n",
       " 'We will have a re-test on the Transformation Jutsu!',\n",
       " 'Even those who already passed will take it!',\n",
       " 'Whaaaat?!',\n",
       " 'Sakura Haruno.',\n",
       " 'Here I go…\\n Transform!',\n",
       " 'OK!',\n",
       " 'I did it!',\n",
       " 'Cha!',\n",
       " 'Did you see that, Sasuke?',\n",
       " 'Next, Sasuke Uchiha.',\n",
       " 'Yes.',\n",
       " 'O-OK.\\n Next, Naruto Uzumaki.',\n",
       " 'This is a real pain.',\n",
       " \"And it's all your fault.\",\n",
       " 'Like I care!!',\n",
       " 'OK…\\n Good luck, Naruto…\\n Transform!',\n",
       " 'How was it?',\n",
       " 'I call it the \"Sexy Jutsu\"!',\n",
       " 'You fool!',\n",
       " 'Stop making idiotic spells!',\n",
       " \"Darn…\\n Darn…\\n I won't let you go home unless you clean that all up.\",\n",
       " \"I don't care…\\n There's nobody home anyway.\",\n",
       " 'Naruto...\\n What is it this time?',\n",
       " \"What I meant was…\\n If you clean up all that mess, I'll buy you ramen tonight.\",\n",
       " 'Huh?!',\n",
       " 'Yes!',\n",
       " 'I-I will finish it no time!',\n",
       " 'Enter: Naruto Uzumaki!',\n",
       " 'Naruto.',\n",
       " 'Why did you vandalize those faces?',\n",
       " \"Don't you know who the Hokage leaders are?\",\n",
       " 'Of course, I do!',\n",
       " 'I know they earned the title Lord Hokage\\n because they were the best Ninja of their time, right?',\n",
       " 'Especially the Fourth Hokage was a hero\\n who saved the village from the nine-tail demon fox.',\n",
       " 'Then why did you do that?',\n",
       " \"Because I'll become a Hokage myself.\",\n",
       " \"And I'll be the greatest Hokage of all time!\",\n",
       " 'So that everyone will finally learn to accept me!',\n",
       " 'By the way, Sensei, I have a favor to ask.',\n",
       " 'You want another bowl?',\n",
       " 'Mmmm…No…\\n Can I borrow that Leaf headband for a while?',\n",
       " 'This?',\n",
       " 'No no!',\n",
       " 'This is worn only by those who have graduated from Ninja Academy.',\n",
       " \"Tomorrow, you will…\\n You're so mean!\",\n",
       " \"So that's why you took off your goggles…\\n Humph... One more bowl please!\",\n",
       " 'We are now about to begin the graduation test.',\n",
       " 'When your name is called, proceed to the next classroom.',\n",
       " 'The test is on the Clone Jutsu.',\n",
       " 'Oh no…\\n Of all the…!',\n",
       " 'That is my weakest Jutsu!',\n",
       " 'But still… I will do it no matter what!',\n",
       " 'Clone Jutsu!',\n",
       " 'Disqualified!',\n",
       " 'Iruka Sensei.',\n",
       " 'His physical coordination and stamina are excellent.',\n",
       " 'And he managed to come up with something.',\n",
       " \"Isn't that enough for him to pass?\",\n",
       " 'Mizuki Sensei... All the others created three or more clones.',\n",
       " 'Naruto created just one.',\n",
       " \"And it's practically useless.\",\n",
       " \"I can't give him a passing mark.\",\n",
       " \"I 'm a Ninja now!\",\n",
       " 'You did well.',\n",
       " \"That's my son.\",\n",
       " 'Congratulations for your graduation.',\n",
       " \"I'll cook something good tonight!\",\n",
       " 'Look at that one.',\n",
       " \"It's that boy.\",\n",
       " \"I hear he's the only one who failed.\",\n",
       " 'Serves him right.',\n",
       " 'Imagine what would happen if he became a Ninja.',\n",
       " \"Isn't that the boy who is actually…\\n Hey!\",\n",
       " \"We're not supposed to talk about that.\",\n",
       " 'Iruka.',\n",
       " 'We need to talk later.',\n",
       " 'Yes, sir.',\n",
       " \"Iruka Sensei isn't trying to be mean to you.\",\n",
       " 'Then why only me?',\n",
       " 'He wants you to become strong from the bottom of his heart.',\n",
       " \"You both don't have parents.\",\n",
       " 'But I really wanted to graduate.',\n",
       " 'Heh...',\n",
       " \"I guess I have no choice…\\n I'll let you in on a big secret.\",\n",
       " 'Secret?',\n",
       " 'Iruka.',\n",
       " 'What is it, Lord Hokage?',\n",
       " 'I know how you feel.',\n",
       " 'But…\\n Naruto also grew up without knowing the love of his parents…like you.',\n",
       " 'Let me go!',\n",
       " 'My mom and dad are still out there fighting!',\n",
       " 'Wake up, Iruka Sensei!',\n",
       " \"What's the matter?\",\n",
       " \"Come to Lord Hokage's immediately!\",\n",
       " 'I heard that Naruto… stole the Scroll of Sealing.',\n",
       " 'The Scroll of Sealing?!',\n",
       " \"Let's see…\\n The first Jutsu is… Multi-Shadow Clone Jutsu?\",\n",
       " 'What?!',\n",
       " \"Already a Jutsu I'm no good at?\",\n",
       " 'Lord Hokage!',\n",
       " \"We can't forgive him!\",\n",
       " 'This is not just a prank!',\n",
       " 'The Scroll is a dangerous item that the First Hokage sealed!',\n",
       " 'Depending on its use…\\n It will be a major disaster if it is taken out of the village!',\n",
       " 'Yes.',\n",
       " 'Bring Naruto here at once!',\n",
       " 'Yes, sir!',\n",
       " 'Where did you go…Naruto?',\n",
       " 'I will tell everyone in the village about this and eliminate Naruto…\\n Then the Scroll of Sealing will be mine!',\n",
       " 'Hey you, Naruto!',\n",
       " \"You found me..\\n And I've only learned one Jutsu.\",\n",
       " \"He's been practicing the Jutsu…\\n until he's become this exhausted and dirty…?\",\n",
       " 'Listen, listen!',\n",
       " \"I'm gonna show you this amazing Jutsu!\",\n",
       " \"You're gonna let me graduate if I can do it!\",\n",
       " \"Isn't it true that I can graduate if I can do one of the Jutsu written here?\",\n",
       " 'Who told you that?',\n",
       " 'Mizuki Sensei.',\n",
       " 'He told me about this scroll, and this place…\\n Mizuki did?!',\n",
       " \"I'm impressed you found this place.\",\n",
       " 'I see now…how it is.',\n",
       " 'Naruto, give me that scroll.',\n",
       " \"Wait, wait… What's going on here?\",\n",
       " 'Naruto!',\n",
       " 'Never give him that scroll!',\n",
       " 'It is a dangerous object that contains forbidden Ninja Jutsu.',\n",
       " 'It was sealed.',\n",
       " 'Mizuki used you in order to get it for himself!',\n",
       " 'W-Wha--?',\n",
       " 'Naruto, Iruka is only afraid of you holding that scroll!',\n",
       " 'Huh?',\n",
       " 'What are you saying, Mizuki!',\n",
       " \"Don't let him fool you, Naruto!\",\n",
       " 'I will tell you the truth.',\n",
       " 'Idiot!',\n",
       " \"Don't do that!\",\n",
       " 'After an incident 12 years ago, a rule was created.',\n",
       " 'A rule?',\n",
       " 'That is, Naruto, a rule everybody but you knows.',\n",
       " 'Except me?!',\n",
       " 'What is it?',\n",
       " 'Stop it, Mizuki!',\n",
       " 'The rule forbids anyone from revealing that you are actually the Demon Fox Spirit!',\n",
       " 'Huh?',\n",
       " \"You are actually the Demon, Nine-Tailed Fox Spirit,\\n who killed Iruka's parents and destroyed our village!\",\n",
       " 'Stop it!',\n",
       " 'Everyone has been deceiving you ever since.',\n",
       " \"Didn't you find it strange?\",\n",
       " 'Why everyone hated you so much?',\n",
       " 'No!',\n",
       " 'No!',\n",
       " 'No!',\n",
       " 'No!',\n",
       " 'No!',\n",
       " 'Naruto…\\n Nobody accepts you.',\n",
       " \"That's why Iruka hates you so much!\",\n",
       " 'Iruka... Naruto grew up without the love of parents.',\n",
       " 'Everyone avoids him like the plague after what happened.',\n",
       " \"That's why he keeps misbehaving.\",\n",
       " \"It's the only way for him to get any attention or acknowledgement.\",\n",
       " 'He pretends to be tough, but inside he is really hurting.',\n",
       " 'Die, Naruto!',\n",
       " 'Naruto!',\n",
       " 'Get down!',\n",
       " 'Why…?',\n",
       " 'Because you and I are the same.',\n",
       " 'After my parents died,\\n nobody paid attention to me or gave me any support.',\n",
       " \"I wasn't a good student in school.\",\n",
       " 'I was the class clown… because I wanted people to notice me.',\n",
       " \"I couldn't get noticed through excellence, so I kept doing stupid things.\",\n",
       " 'It was so hard.',\n",
       " \"Isn't that right, Naruto?\",\n",
       " 'You felt so lonely…right?',\n",
       " 'And you suffered inside, right?',\n",
       " \"I'm sorry, Naruto….\",\n",
       " \"If I had been more responsible, maybe you wouldn't have suffered so much.\",\n",
       " \"Don't make me laugh!\",\n",
       " 'Iruka has always hated you, ever since you killed his parents!',\n",
       " \"He's just saying all that to get the Scroll of Sealing back!\",\n",
       " 'Naruto!',\n",
       " 'Narutoooooo!',\n",
       " 'He is not the type of kid who will change his mind.',\n",
       " 'He will take revenge against our village using that scroll!',\n",
       " \"Didn't you see his eyes?\",\n",
       " 'Those are the eyes of a Demon Fox.',\n",
       " \"No… Naruto…isn't…like that at all!\",\n",
       " 'All I want is to kill Naruto and get the scroll.',\n",
       " \"I'll take care of you later!\",\n",
       " \"I-I won't let you…\\n Well, well.\",\n",
       " 'Mizuki has a big mouth!',\n",
       " \"Naruto feels worse than he's ever felt.\",\n",
       " 'He might unleash the power locked up inside him.',\n",
       " 'The Scroll of Sealing is now with him.',\n",
       " \"There's a slight chance he might actually release\\n the Nine-Tailed Fox Spirit sealed inside him!\",\n",
       " \"If that happens…\\n I've found him!\",\n",
       " 'Naruto!',\n",
       " 'Everything that Mizuki said was a lie!',\n",
       " 'Give me that scroll, quick!',\n",
       " 'Mizuki is after the scroll!',\n",
       " \"It can't be…\\n Why is it, Naruto?\",\n",
       " \"How…\\n did you know I wasn't Iruka…?\",\n",
       " \"Because I'm Iruka.\",\n",
       " 'I see.',\n",
       " \"What's in it for you to protect the one who killed your family?\",\n",
       " \"I'm not gonna let a stupid idiot like you get that scroll!\",\n",
       " \"You're the idiot.\",\n",
       " 'Naruto is the same as me.',\n",
       " 'Same?',\n",
       " 'Anyone can do whatever he wants once he has the scroll.',\n",
       " \"There is no way that that monster…\\n that Fox Spirit, won't take advantage of the power of that scroll!\",\n",
       " \"You're right…\\n I guess it was true all along!\",\n",
       " 'See, Iruka Sensei never really cared for me at all!',\n",
       " '...if he was the Demon Fox Spirit.',\n",
       " 'But Naruto is different!',\n",
       " 'I know that he is an exceptional student.',\n",
       " \"He works very hard,\\n and he's single-minded and clumsy at the same time.\",\n",
       " 'No one accepts him, but he knows the meaning of human suffering.',\n",
       " 'He is not the Demon Fox Spirit.',\n",
       " \"He's Naruto Uzumaki of the Village Hidden in the Leaves!\",\n",
       " 'You are so gullible.',\n",
       " 'lruka!',\n",
       " 'I was gonna take you down later, but I have changed my mind.',\n",
       " 'Die!',\n",
       " 'I guess this is the end for me…\\n Naruto?!',\n",
       " 'You surprised me there, freak.',\n",
       " \"If you ever lay a hand on Iruka Sensei, I'll kill you!\",\n",
       " 'Shut up!',\n",
       " 'I can take care of a kid like you with a single blow!',\n",
       " \"Why don't you try then?\",\n",
       " \"I'll strike you back a thousand-fold!\",\n",
       " \"Let's see you try!\",\n",
       " 'Show me what you can do, Demon Fox!',\n",
       " 'Shadow Clone Jutsu!',\n",
       " 'Naruto!',\n",
       " \"You've…\\n Those aren't just images but actual clones!\",\n",
       " \"That's an advanced Ninjutsu!\",\n",
       " \"What's this…?\",\n",
       " \"What's the matter?\",\n",
       " \"C'mon!\",\n",
       " \"Weren't you gonna get me with one blow?\",\n",
       " 'Here!',\n",
       " \"In that case… I'll come to you.\",\n",
       " 'I kinda got carried away.',\n",
       " 'lruka Sensei, are you okay?',\n",
       " 'Yeah.',\n",
       " \"He's really something.\",\n",
       " 'Maybe it is true.',\n",
       " 'Maybe he will surpass all the Hokage leaders…\\n Naruto, come over here.',\n",
       " \"I'd like to give you something.\",\n",
       " 'Has anyone found Naruto yet?',\n",
       " 'No.',\n",
       " \"Darn, this is going to be bad…\\n There's no need to worry anymore.\",\n",
       " 'Lord Hokage!',\n",
       " \"He'll be back soon.\",\n",
       " 'Sensei, how much longer?',\n",
       " 'OK, you may open your eyes now.',\n",
       " 'Congratulations…on your graduation.',\n",
       " \"In celebration, we'll have ramen tonight!\",\n",
       " 'Iruka Sensei!',\n",
       " 'That hurts!',\n",
       " \"Naruto…\\n I was going to lecture to you...\\n that the road gets more difficult now that you're a Ninja.\",\n",
       " \"But I guess I'll just wait to tell you that until we get to the ramen stand…\\n W-What do you want, you little shrimp?\",\n",
       " 'Quit following me!',\n",
       " \"You're smaller than me and\\n you're saying that you're gonna become the Fifth Hokage?\",\n",
       " \"I don't care if you are the 3rd Hokage's grandson or not.\",\n",
       " \"It's not that easy to be a Hokage!\",\n",
       " \"If you want it that bad, you're gonna have to beat me first!\",\n",
       " 'Next episode:  \"My Name Is Konohamaru!\"',\n",
       " 'Watch my outstanding performance!']"
      ]
     },
     "execution_count": 21,
     "metadata": {},
     "output_type": "execute_result"
    }
   ],
   "source": [
    "script_sentences = sent_tokenize(script)\n",
    "script_sentences"
   ]
  },
  {
   "cell_type": "code",
   "execution_count": 22,
   "id": "b11fc6c0",
   "metadata": {},
   "outputs": [],
   "source": [
    "# Batch Sentence\n",
    "sentence_batch_size=20\n",
    "script_batches = []\n",
    "for index in range(0,len(script_sentences),sentence_batch_size):\n",
    "    sent = \" \".join(script_sentences[index:index+sentence_batch_size])\n",
    "    script_batches.append(sent)"
   ]
  },
  {
   "cell_type": "code",
   "execution_count": 23,
   "id": "45317c09",
   "metadata": {},
   "outputs": [
    {
     "data": {
      "text/plain": [
       "[\"A long time ago, a powerful demon fox appeared with nine tails. With its powerful tails,\\n it could smash mountains and create tidal waves. A band of Ninjas rose to defend their village from attack. We have to wait until the Fourth Hokage gets here! We can't let it get any closer to our village! One great Ninja was able to imprison the monster,\\n but died in the process. This Ninja was known as… the Fourth Hokage. Naruto! Why did you do such a thing?! You're really gonna get it this time! I don't care! You know your problem? You can't do the things I do! Only I can do this! I'm better than all of you! Believe it! There's a problem, sir! Lord Hokage! What is it? Did that Naruto do something again?\",\n",
       " 'Yes. He climbed onto the Mountainside Images…\\n And he vandalized and graffitied all over them! Wait! Ha ha…\\n Why should I? Hey, Naruto! How did you suddenly get here, lruka Sensei? The question is what are you doing here when you should be in class now? Now listen, Naruto. You failed the last graduation test and the one before that. This is no time to be goofing off, you fool! We will have a re-test on the Transformation Jutsu! Even those who already passed will take it! Whaaaat?! Sakura Haruno. Here I go…\\n Transform! OK! I did it! Cha! Did you see that, Sasuke? Next, Sasuke Uchiha.',\n",
       " 'Yes. O-OK.\\n Next, Naruto Uzumaki. This is a real pain. And it\\'s all your fault. Like I care!! OK…\\n Good luck, Naruto…\\n Transform! How was it? I call it the \"Sexy Jutsu\"! You fool! Stop making idiotic spells! Darn…\\n Darn…\\n I won\\'t let you go home unless you clean that all up. I don\\'t care…\\n There\\'s nobody home anyway. Naruto...\\n What is it this time? What I meant was…\\n If you clean up all that mess, I\\'ll buy you ramen tonight. Huh?! Yes! I-I will finish it no time! Enter: Naruto Uzumaki! Naruto. Why did you vandalize those faces?',\n",
       " \"Don't you know who the Hokage leaders are? Of course, I do! I know they earned the title Lord Hokage\\n because they were the best Ninja of their time, right? Especially the Fourth Hokage was a hero\\n who saved the village from the nine-tail demon fox. Then why did you do that? Because I'll become a Hokage myself. And I'll be the greatest Hokage of all time! So that everyone will finally learn to accept me! By the way, Sensei, I have a favor to ask. You want another bowl? Mmmm…No…\\n Can I borrow that Leaf headband for a while? This? No no! This is worn only by those who have graduated from Ninja Academy. Tomorrow, you will…\\n You're so mean! So that's why you took off your goggles…\\n Humph... One more bowl please! We are now about to begin the graduation test. When your name is called, proceed to the next classroom. The test is on the Clone Jutsu. Oh no…\\n Of all the…!\",\n",
       " \"That is my weakest Jutsu! But still… I will do it no matter what! Clone Jutsu! Disqualified! Iruka Sensei. His physical coordination and stamina are excellent. And he managed to come up with something. Isn't that enough for him to pass? Mizuki Sensei... All the others created three or more clones. Naruto created just one. And it's practically useless. I can't give him a passing mark. I 'm a Ninja now! You did well. That's my son. Congratulations for your graduation. I'll cook something good tonight! Look at that one. It's that boy. I hear he's the only one who failed.\"]"
      ]
     },
     "execution_count": 23,
     "metadata": {},
     "output_type": "execute_result"
    }
   ],
   "source": [
    "script_batches[:5]"
   ]
  },
  {
   "cell_type": "code",
   "execution_count": 24,
   "id": "6053f2a4",
   "metadata": {},
   "outputs": [
    {
     "name": "stderr",
     "output_type": "stream",
     "text": [
      "/Users/Pranshu/Desktop/Project/NLP_Series Analysis/gradio_venv/lib/python3.9/site-packages/torch/utils/data/dataloader.py:750: UserWarning: Length of IterableDataset <transformers.pipelines.pt_utils.PipelineChunkIterator object at 0x140c08640> was reported to be 2(when accessing len(dataloader)), but 3 samples have been fetched. \n",
      "  warnings.warn(warn_msg)\n",
      "/Users/Pranshu/Desktop/Project/NLP_Series Analysis/gradio_venv/lib/python3.9/site-packages/torch/utils/data/dataloader.py:750: UserWarning: Length of IterableDataset <transformers.pipelines.pt_utils.PipelineChunkIterator object at 0x140c08640> was reported to be 2(when accessing len(dataloader)), but 4 samples have been fetched. \n",
      "  warnings.warn(warn_msg)\n",
      "/Users/Pranshu/Desktop/Project/NLP_Series Analysis/gradio_venv/lib/python3.9/site-packages/torch/utils/data/dataloader.py:750: UserWarning: Length of IterableDataset <transformers.pipelines.pt_utils.PipelineChunkIterator object at 0x140c08640> was reported to be 2(when accessing len(dataloader)), but 5 samples have been fetched. \n",
      "  warnings.warn(warn_msg)\n",
      "/Users/Pranshu/Desktop/Project/NLP_Series Analysis/gradio_venv/lib/python3.9/site-packages/torch/utils/data/dataloader.py:750: UserWarning: Length of IterableDataset <transformers.pipelines.pt_utils.PipelineChunkIterator object at 0x140c08640> was reported to be 2(when accessing len(dataloader)), but 6 samples have been fetched. \n",
      "  warnings.warn(warn_msg)\n",
      "/Users/Pranshu/Desktop/Project/NLP_Series Analysis/gradio_venv/lib/python3.9/site-packages/torch/utils/data/dataloader.py:750: UserWarning: Length of IterableDataset <transformers.pipelines.pt_utils.PipelineChunkIterator object at 0x140c08640> was reported to be 2(when accessing len(dataloader)), but 7 samples have been fetched. \n",
      "  warnings.warn(warn_msg)\n",
      "/Users/Pranshu/Desktop/Project/NLP_Series Analysis/gradio_venv/lib/python3.9/site-packages/torch/utils/data/dataloader.py:750: UserWarning: Length of IterableDataset <transformers.pipelines.pt_utils.PipelineChunkIterator object at 0x140c08640> was reported to be 2(when accessing len(dataloader)), but 8 samples have been fetched. \n",
      "  warnings.warn(warn_msg)\n",
      "/Users/Pranshu/Desktop/Project/NLP_Series Analysis/gradio_venv/lib/python3.9/site-packages/torch/utils/data/dataloader.py:750: UserWarning: Length of IterableDataset <transformers.pipelines.pt_utils.PipelineChunkIterator object at 0x140c08640> was reported to be 2(when accessing len(dataloader)), but 9 samples have been fetched. \n",
      "  warnings.warn(warn_msg)\n",
      "/Users/Pranshu/Desktop/Project/NLP_Series Analysis/gradio_venv/lib/python3.9/site-packages/torch/utils/data/dataloader.py:750: UserWarning: Length of IterableDataset <transformers.pipelines.pt_utils.PipelineChunkIterator object at 0x140c08640> was reported to be 2(when accessing len(dataloader)), but 10 samples have been fetched. \n",
      "  warnings.warn(warn_msg)\n",
      "/Users/Pranshu/Desktop/Project/NLP_Series Analysis/gradio_venv/lib/python3.9/site-packages/torch/utils/data/dataloader.py:750: UserWarning: Length of IterableDataset <transformers.pipelines.pt_utils.PipelineChunkIterator object at 0x140c08640> was reported to be 2(when accessing len(dataloader)), but 11 samples have been fetched. \n",
      "  warnings.warn(warn_msg)\n",
      "/Users/Pranshu/Desktop/Project/NLP_Series Analysis/gradio_venv/lib/python3.9/site-packages/torch/utils/data/dataloader.py:750: UserWarning: Length of IterableDataset <transformers.pipelines.pt_utils.PipelineChunkIterator object at 0x140c08640> was reported to be 2(when accessing len(dataloader)), but 12 samples have been fetched. \n",
      "  warnings.warn(warn_msg)\n",
      "/Users/Pranshu/Desktop/Project/NLP_Series Analysis/gradio_venv/lib/python3.9/site-packages/torch/utils/data/dataloader.py:750: UserWarning: Length of IterableDataset <transformers.pipelines.pt_utils.PipelineChunkIterator object at 0x140c08640> was reported to be 2(when accessing len(dataloader)), but 13 samples have been fetched. \n",
      "  warnings.warn(warn_msg)\n",
      "/Users/Pranshu/Desktop/Project/NLP_Series Analysis/gradio_venv/lib/python3.9/site-packages/torch/utils/data/dataloader.py:750: UserWarning: Length of IterableDataset <transformers.pipelines.pt_utils.PipelineChunkIterator object at 0x140c08640> was reported to be 2(when accessing len(dataloader)), but 14 samples have been fetched. \n",
      "  warnings.warn(warn_msg)\n",
      "/Users/Pranshu/Desktop/Project/NLP_Series Analysis/gradio_venv/lib/python3.9/site-packages/torch/utils/data/dataloader.py:750: UserWarning: Length of IterableDataset <transformers.pipelines.pt_utils.PipelineChunkIterator object at 0x140c08640> was reported to be 2(when accessing len(dataloader)), but 15 samples have been fetched. \n",
      "  warnings.warn(warn_msg)\n",
      "/Users/Pranshu/Desktop/Project/NLP_Series Analysis/gradio_venv/lib/python3.9/site-packages/torch/utils/data/dataloader.py:750: UserWarning: Length of IterableDataset <transformers.pipelines.pt_utils.PipelineChunkIterator object at 0x140c08640> was reported to be 2(when accessing len(dataloader)), but 16 samples have been fetched. \n",
      "  warnings.warn(warn_msg)\n"
     ]
    }
   ],
   "source": [
    "theme_output = theme_classifier(\n",
    "    script_batches[:2],\n",
    "    theme_list,\n",
    "    multi_label=True\n",
    ")"
   ]
  },
  {
   "cell_type": "code",
   "execution_count": 25,
   "id": "a428ae8d",
   "metadata": {},
   "outputs": [
    {
     "data": {
      "text/plain": [
       "[{'sequence': \"A long time ago, a powerful demon fox appeared with nine tails. With its powerful tails,\\n it could smash mountains and create tidal waves. A band of Ninjas rose to defend their village from attack. We have to wait until the Fourth Hokage gets here! We can't let it get any closer to our village! One great Ninja was able to imprison the monster,\\n but died in the process. This Ninja was known as… the Fourth Hokage. Naruto! Why did you do such a thing?! You're really gonna get it this time! I don't care! You know your problem? You can't do the things I do! Only I can do this! I'm better than all of you! Believe it! There's a problem, sir! Lord Hokage! What is it? Did that Naruto do something again?\",\n",
       "  'labels': ['dialogue',\n",
       "   'betrayal',\n",
       "   'battle',\n",
       "   'sacrifice',\n",
       "   'self development',\n",
       "   'hope',\n",
       "   'friendship',\n",
       "   'love'],\n",
       "  'scores': [0.9800739884376526,\n",
       "   0.939690351486206,\n",
       "   0.8546878695487976,\n",
       "   0.7349810600280762,\n",
       "   0.7284975647926331,\n",
       "   0.19909755885601044,\n",
       "   0.05922349914908409,\n",
       "   0.04026201367378235]},\n",
       " {'sequence': 'Yes. He climbed onto the Mountainside Images…\\n And he vandalized and graffitied all over them! Wait! Ha ha…\\n Why should I? Hey, Naruto! How did you suddenly get here, lruka Sensei? The question is what are you doing here when you should be in class now? Now listen, Naruto. You failed the last graduation test and the one before that. This is no time to be goofing off, you fool! We will have a re-test on the Transformation Jutsu! Even those who already passed will take it! Whaaaat?! Sakura Haruno. Here I go…\\n Transform! OK! I did it! Cha! Did you see that, Sasuke? Next, Sasuke Uchiha.',\n",
       "  'labels': ['dialogue',\n",
       "   'self development',\n",
       "   'battle',\n",
       "   'betrayal',\n",
       "   'sacrifice',\n",
       "   'hope',\n",
       "   'friendship',\n",
       "   'love'],\n",
       "  'scores': [0.9370126128196716,\n",
       "   0.8678206205368042,\n",
       "   0.6581321954727173,\n",
       "   0.6457259058952332,\n",
       "   0.6258871555328369,\n",
       "   0.20424072444438934,\n",
       "   0.08603283762931824,\n",
       "   0.028020763769745827]}]"
      ]
     },
     "execution_count": 25,
     "metadata": {},
     "output_type": "execute_result"
    }
   ],
   "source": [
    "theme_output"
   ]
  },
  {
   "cell_type": "code",
   "execution_count": 26,
   "id": "85363e08",
   "metadata": {},
   "outputs": [],
   "source": [
    "# wrangle output\n",
    "themes= {}\n",
    "for output in theme_output:\n",
    "    for label,score in zip(output['labels'],output['scores']):\n",
    "        if label not in themes:\n",
    "            themes[label] = []\n",
    "        themes[label].append(score)"
   ]
  },
  {
   "cell_type": "code",
   "execution_count": 27,
   "id": "70492f14",
   "metadata": {},
   "outputs": [
    {
     "data": {
      "text/plain": [
       "{'dialogue': [0.9800739884376526, 0.9370126128196716],\n",
       " 'betrayal': [0.939690351486206, 0.6457259058952332],\n",
       " 'battle': [0.8546878695487976, 0.6581321954727173],\n",
       " 'sacrifice': [0.7349810600280762, 0.6258871555328369],\n",
       " 'self development': [0.7284975647926331, 0.8678206205368042],\n",
       " 'hope': [0.19909755885601044, 0.20424072444438934],\n",
       " 'friendship': [0.05922349914908409, 0.08603283762931824],\n",
       " 'love': [0.04026201367378235, 0.028020763769745827]}"
      ]
     },
     "execution_count": 27,
     "metadata": {},
     "output_type": "execute_result"
    }
   ],
   "source": [
    "themes"
   ]
  },
  {
   "cell_type": "code",
   "execution_count": 28,
   "id": "dbf8bae5",
   "metadata": {},
   "outputs": [],
   "source": [
    "def get_themes_inference(script):\n",
    "    script_sentences = sent_tokenize(script)\n",
    "\n",
    "    # Batch Sentence\n",
    "    sentence_batch_size=20\n",
    "    script_batches = []\n",
    "    for index in range(0,len(script_sentences),sentence_batch_size):\n",
    "        sent = \" \".join(script_sentences[index:index+sentence_batch_size])\n",
    "        script_batches.append(sent)\n",
    "    \n",
    "    # Run Model\n",
    "    theme_output = theme_classifier(\n",
    "        script_batches[:2],\n",
    "        theme_list,\n",
    "        multi_label=True\n",
    "    )\n",
    "\n",
    "    # Wrangle Output \n",
    "    themes = {}\n",
    "    for output in theme_output:\n",
    "        for label,score in zip(output['labels'],output['scores']):\n",
    "            if label not in themes:\n",
    "                themes[label] = []\n",
    "            themes[label].append(score)\n",
    "\n",
    "    themes = {key: np.mean(np.array(value)) for key,value in themes.items()}\n",
    "\n",
    "    return themes"
   ]
  },
  {
   "cell_type": "code",
   "execution_count": 29,
   "id": "e3ec3b31",
   "metadata": {},
   "outputs": [],
   "source": [
    "df = df.head(5)"
   ]
  },
  {
   "cell_type": "code",
   "execution_count": 30,
   "id": "1ff28006",
   "metadata": {},
   "outputs": [
    {
     "data": {
      "text/html": [
       "<div>\n",
       "<style scoped>\n",
       "    .dataframe tbody tr th:only-of-type {\n",
       "        vertical-align: middle;\n",
       "    }\n",
       "\n",
       "    .dataframe tbody tr th {\n",
       "        vertical-align: top;\n",
       "    }\n",
       "\n",
       "    .dataframe thead th {\n",
       "        text-align: right;\n",
       "    }\n",
       "</style>\n",
       "<table border=\"1\" class=\"dataframe\">\n",
       "  <thead>\n",
       "    <tr style=\"text-align: right;\">\n",
       "      <th></th>\n",
       "      <th>episode</th>\n",
       "      <th>script</th>\n",
       "    </tr>\n",
       "  </thead>\n",
       "  <tbody>\n",
       "    <tr>\n",
       "      <th>0</th>\n",
       "      <td>1</td>\n",
       "      <td>A long time ago, a powerful demon fox appeared...</td>\n",
       "    </tr>\n",
       "    <tr>\n",
       "      <th>1</th>\n",
       "      <td>2</td>\n",
       "      <td>C'mon!\\n Running like a fugitive,\\n Being chas...</td>\n",
       "    </tr>\n",
       "    <tr>\n",
       "      <th>2</th>\n",
       "      <td>3</td>\n",
       "      <td>C'mon!\\n Running like a fugitive,\\n Being chas...</td>\n",
       "    </tr>\n",
       "    <tr>\n",
       "      <th>3</th>\n",
       "      <td>4</td>\n",
       "      <td>C'mon!\\n Running like a fugitive,\\n Being chas...</td>\n",
       "    </tr>\n",
       "    <tr>\n",
       "      <th>4</th>\n",
       "      <td>5</td>\n",
       "      <td>C'mon!\\n Running like a fugitive,\\n Being chas...</td>\n",
       "    </tr>\n",
       "  </tbody>\n",
       "</table>\n",
       "</div>"
      ],
      "text/plain": [
       "   episode                                             script\n",
       "0        1  A long time ago, a powerful demon fox appeared...\n",
       "1        2  C'mon!\\n Running like a fugitive,\\n Being chas...\n",
       "2        3  C'mon!\\n Running like a fugitive,\\n Being chas...\n",
       "3        4  C'mon!\\n Running like a fugitive,\\n Being chas...\n",
       "4        5  C'mon!\\n Running like a fugitive,\\n Being chas..."
      ]
     },
     "execution_count": 30,
     "metadata": {},
     "output_type": "execute_result"
    }
   ],
   "source": [
    "df"
   ]
  },
  {
   "cell_type": "code",
   "execution_count": 31,
   "id": "cf6e7b61",
   "metadata": {},
   "outputs": [
    {
     "name": "stderr",
     "output_type": "stream",
     "text": [
      "/Users/Pranshu/Desktop/Project/NLP_Series Analysis/gradio_venv/lib/python3.9/site-packages/torch/utils/data/dataloader.py:750: UserWarning: Length of IterableDataset <transformers.pipelines.pt_utils.PipelineChunkIterator object at 0x14349e430> was reported to be 2(when accessing len(dataloader)), but 3 samples have been fetched. \n",
      "  warnings.warn(warn_msg)\n",
      "/Users/Pranshu/Desktop/Project/NLP_Series Analysis/gradio_venv/lib/python3.9/site-packages/torch/utils/data/dataloader.py:750: UserWarning: Length of IterableDataset <transformers.pipelines.pt_utils.PipelineChunkIterator object at 0x14349e430> was reported to be 2(when accessing len(dataloader)), but 4 samples have been fetched. \n",
      "  warnings.warn(warn_msg)\n",
      "/Users/Pranshu/Desktop/Project/NLP_Series Analysis/gradio_venv/lib/python3.9/site-packages/torch/utils/data/dataloader.py:750: UserWarning: Length of IterableDataset <transformers.pipelines.pt_utils.PipelineChunkIterator object at 0x14349e430> was reported to be 2(when accessing len(dataloader)), but 5 samples have been fetched. \n",
      "  warnings.warn(warn_msg)\n",
      "/Users/Pranshu/Desktop/Project/NLP_Series Analysis/gradio_venv/lib/python3.9/site-packages/torch/utils/data/dataloader.py:750: UserWarning: Length of IterableDataset <transformers.pipelines.pt_utils.PipelineChunkIterator object at 0x14349e430> was reported to be 2(when accessing len(dataloader)), but 6 samples have been fetched. \n",
      "  warnings.warn(warn_msg)\n",
      "/Users/Pranshu/Desktop/Project/NLP_Series Analysis/gradio_venv/lib/python3.9/site-packages/torch/utils/data/dataloader.py:750: UserWarning: Length of IterableDataset <transformers.pipelines.pt_utils.PipelineChunkIterator object at 0x14349e430> was reported to be 2(when accessing len(dataloader)), but 7 samples have been fetched. \n",
      "  warnings.warn(warn_msg)\n",
      "/Users/Pranshu/Desktop/Project/NLP_Series Analysis/gradio_venv/lib/python3.9/site-packages/torch/utils/data/dataloader.py:750: UserWarning: Length of IterableDataset <transformers.pipelines.pt_utils.PipelineChunkIterator object at 0x14349e430> was reported to be 2(when accessing len(dataloader)), but 8 samples have been fetched. \n",
      "  warnings.warn(warn_msg)\n",
      "/Users/Pranshu/Desktop/Project/NLP_Series Analysis/gradio_venv/lib/python3.9/site-packages/torch/utils/data/dataloader.py:750: UserWarning: Length of IterableDataset <transformers.pipelines.pt_utils.PipelineChunkIterator object at 0x14349e430> was reported to be 2(when accessing len(dataloader)), but 9 samples have been fetched. \n",
      "  warnings.warn(warn_msg)\n",
      "/Users/Pranshu/Desktop/Project/NLP_Series Analysis/gradio_venv/lib/python3.9/site-packages/torch/utils/data/dataloader.py:750: UserWarning: Length of IterableDataset <transformers.pipelines.pt_utils.PipelineChunkIterator object at 0x14349e430> was reported to be 2(when accessing len(dataloader)), but 10 samples have been fetched. \n",
      "  warnings.warn(warn_msg)\n",
      "/Users/Pranshu/Desktop/Project/NLP_Series Analysis/gradio_venv/lib/python3.9/site-packages/torch/utils/data/dataloader.py:750: UserWarning: Length of IterableDataset <transformers.pipelines.pt_utils.PipelineChunkIterator object at 0x14349e430> was reported to be 2(when accessing len(dataloader)), but 11 samples have been fetched. \n",
      "  warnings.warn(warn_msg)\n",
      "/Users/Pranshu/Desktop/Project/NLP_Series Analysis/gradio_venv/lib/python3.9/site-packages/torch/utils/data/dataloader.py:750: UserWarning: Length of IterableDataset <transformers.pipelines.pt_utils.PipelineChunkIterator object at 0x14349e430> was reported to be 2(when accessing len(dataloader)), but 12 samples have been fetched. \n",
      "  warnings.warn(warn_msg)\n",
      "/Users/Pranshu/Desktop/Project/NLP_Series Analysis/gradio_venv/lib/python3.9/site-packages/torch/utils/data/dataloader.py:750: UserWarning: Length of IterableDataset <transformers.pipelines.pt_utils.PipelineChunkIterator object at 0x14349e430> was reported to be 2(when accessing len(dataloader)), but 13 samples have been fetched. \n",
      "  warnings.warn(warn_msg)\n",
      "/Users/Pranshu/Desktop/Project/NLP_Series Analysis/gradio_venv/lib/python3.9/site-packages/torch/utils/data/dataloader.py:750: UserWarning: Length of IterableDataset <transformers.pipelines.pt_utils.PipelineChunkIterator object at 0x14349e430> was reported to be 2(when accessing len(dataloader)), but 14 samples have been fetched. \n",
      "  warnings.warn(warn_msg)\n",
      "/Users/Pranshu/Desktop/Project/NLP_Series Analysis/gradio_venv/lib/python3.9/site-packages/torch/utils/data/dataloader.py:750: UserWarning: Length of IterableDataset <transformers.pipelines.pt_utils.PipelineChunkIterator object at 0x14349e430> was reported to be 2(when accessing len(dataloader)), but 15 samples have been fetched. \n",
      "  warnings.warn(warn_msg)\n",
      "/Users/Pranshu/Desktop/Project/NLP_Series Analysis/gradio_venv/lib/python3.9/site-packages/torch/utils/data/dataloader.py:750: UserWarning: Length of IterableDataset <transformers.pipelines.pt_utils.PipelineChunkIterator object at 0x14349e430> was reported to be 2(when accessing len(dataloader)), but 16 samples have been fetched. \n",
      "  warnings.warn(warn_msg)\n",
      "/Users/Pranshu/Desktop/Project/NLP_Series Analysis/gradio_venv/lib/python3.9/site-packages/torch/utils/data/dataloader.py:750: UserWarning: Length of IterableDataset <transformers.pipelines.pt_utils.PipelineChunkIterator object at 0x140b7e1c0> was reported to be 2(when accessing len(dataloader)), but 3 samples have been fetched. \n",
      "  warnings.warn(warn_msg)\n",
      "/Users/Pranshu/Desktop/Project/NLP_Series Analysis/gradio_venv/lib/python3.9/site-packages/torch/utils/data/dataloader.py:750: UserWarning: Length of IterableDataset <transformers.pipelines.pt_utils.PipelineChunkIterator object at 0x140b7e1c0> was reported to be 2(when accessing len(dataloader)), but 4 samples have been fetched. \n",
      "  warnings.warn(warn_msg)\n",
      "/Users/Pranshu/Desktop/Project/NLP_Series Analysis/gradio_venv/lib/python3.9/site-packages/torch/utils/data/dataloader.py:750: UserWarning: Length of IterableDataset <transformers.pipelines.pt_utils.PipelineChunkIterator object at 0x140b7e1c0> was reported to be 2(when accessing len(dataloader)), but 5 samples have been fetched. \n",
      "  warnings.warn(warn_msg)\n",
      "/Users/Pranshu/Desktop/Project/NLP_Series Analysis/gradio_venv/lib/python3.9/site-packages/torch/utils/data/dataloader.py:750: UserWarning: Length of IterableDataset <transformers.pipelines.pt_utils.PipelineChunkIterator object at 0x140b7e1c0> was reported to be 2(when accessing len(dataloader)), but 6 samples have been fetched. \n",
      "  warnings.warn(warn_msg)\n",
      "/Users/Pranshu/Desktop/Project/NLP_Series Analysis/gradio_venv/lib/python3.9/site-packages/torch/utils/data/dataloader.py:750: UserWarning: Length of IterableDataset <transformers.pipelines.pt_utils.PipelineChunkIterator object at 0x140b7e1c0> was reported to be 2(when accessing len(dataloader)), but 7 samples have been fetched. \n",
      "  warnings.warn(warn_msg)\n",
      "/Users/Pranshu/Desktop/Project/NLP_Series Analysis/gradio_venv/lib/python3.9/site-packages/torch/utils/data/dataloader.py:750: UserWarning: Length of IterableDataset <transformers.pipelines.pt_utils.PipelineChunkIterator object at 0x140b7e1c0> was reported to be 2(when accessing len(dataloader)), but 8 samples have been fetched. \n",
      "  warnings.warn(warn_msg)\n",
      "/Users/Pranshu/Desktop/Project/NLP_Series Analysis/gradio_venv/lib/python3.9/site-packages/torch/utils/data/dataloader.py:750: UserWarning: Length of IterableDataset <transformers.pipelines.pt_utils.PipelineChunkIterator object at 0x140b7e1c0> was reported to be 2(when accessing len(dataloader)), but 9 samples have been fetched. \n",
      "  warnings.warn(warn_msg)\n",
      "/Users/Pranshu/Desktop/Project/NLP_Series Analysis/gradio_venv/lib/python3.9/site-packages/torch/utils/data/dataloader.py:750: UserWarning: Length of IterableDataset <transformers.pipelines.pt_utils.PipelineChunkIterator object at 0x140b7e1c0> was reported to be 2(when accessing len(dataloader)), but 10 samples have been fetched. \n",
      "  warnings.warn(warn_msg)\n",
      "/Users/Pranshu/Desktop/Project/NLP_Series Analysis/gradio_venv/lib/python3.9/site-packages/torch/utils/data/dataloader.py:750: UserWarning: Length of IterableDataset <transformers.pipelines.pt_utils.PipelineChunkIterator object at 0x140b7e1c0> was reported to be 2(when accessing len(dataloader)), but 11 samples have been fetched. \n",
      "  warnings.warn(warn_msg)\n",
      "/Users/Pranshu/Desktop/Project/NLP_Series Analysis/gradio_venv/lib/python3.9/site-packages/torch/utils/data/dataloader.py:750: UserWarning: Length of IterableDataset <transformers.pipelines.pt_utils.PipelineChunkIterator object at 0x140b7e1c0> was reported to be 2(when accessing len(dataloader)), but 12 samples have been fetched. \n",
      "  warnings.warn(warn_msg)\n",
      "/Users/Pranshu/Desktop/Project/NLP_Series Analysis/gradio_venv/lib/python3.9/site-packages/torch/utils/data/dataloader.py:750: UserWarning: Length of IterableDataset <transformers.pipelines.pt_utils.PipelineChunkIterator object at 0x140b7e1c0> was reported to be 2(when accessing len(dataloader)), but 13 samples have been fetched. \n",
      "  warnings.warn(warn_msg)\n",
      "/Users/Pranshu/Desktop/Project/NLP_Series Analysis/gradio_venv/lib/python3.9/site-packages/torch/utils/data/dataloader.py:750: UserWarning: Length of IterableDataset <transformers.pipelines.pt_utils.PipelineChunkIterator object at 0x140b7e1c0> was reported to be 2(when accessing len(dataloader)), but 14 samples have been fetched. \n",
      "  warnings.warn(warn_msg)\n",
      "/Users/Pranshu/Desktop/Project/NLP_Series Analysis/gradio_venv/lib/python3.9/site-packages/torch/utils/data/dataloader.py:750: UserWarning: Length of IterableDataset <transformers.pipelines.pt_utils.PipelineChunkIterator object at 0x140b7e1c0> was reported to be 2(when accessing len(dataloader)), but 15 samples have been fetched. \n",
      "  warnings.warn(warn_msg)\n",
      "/Users/Pranshu/Desktop/Project/NLP_Series Analysis/gradio_venv/lib/python3.9/site-packages/torch/utils/data/dataloader.py:750: UserWarning: Length of IterableDataset <transformers.pipelines.pt_utils.PipelineChunkIterator object at 0x140b7e1c0> was reported to be 2(when accessing len(dataloader)), but 16 samples have been fetched. \n",
      "  warnings.warn(warn_msg)\n",
      "/Users/Pranshu/Desktop/Project/NLP_Series Analysis/gradio_venv/lib/python3.9/site-packages/torch/utils/data/dataloader.py:750: UserWarning: Length of IterableDataset <transformers.pipelines.pt_utils.PipelineChunkIterator object at 0x1432db940> was reported to be 2(when accessing len(dataloader)), but 3 samples have been fetched. \n",
      "  warnings.warn(warn_msg)\n",
      "/Users/Pranshu/Desktop/Project/NLP_Series Analysis/gradio_venv/lib/python3.9/site-packages/torch/utils/data/dataloader.py:750: UserWarning: Length of IterableDataset <transformers.pipelines.pt_utils.PipelineChunkIterator object at 0x1432db940> was reported to be 2(when accessing len(dataloader)), but 4 samples have been fetched. \n",
      "  warnings.warn(warn_msg)\n",
      "/Users/Pranshu/Desktop/Project/NLP_Series Analysis/gradio_venv/lib/python3.9/site-packages/torch/utils/data/dataloader.py:750: UserWarning: Length of IterableDataset <transformers.pipelines.pt_utils.PipelineChunkIterator object at 0x1432db940> was reported to be 2(when accessing len(dataloader)), but 5 samples have been fetched. \n",
      "  warnings.warn(warn_msg)\n",
      "/Users/Pranshu/Desktop/Project/NLP_Series Analysis/gradio_venv/lib/python3.9/site-packages/torch/utils/data/dataloader.py:750: UserWarning: Length of IterableDataset <transformers.pipelines.pt_utils.PipelineChunkIterator object at 0x1432db940> was reported to be 2(when accessing len(dataloader)), but 6 samples have been fetched. \n",
      "  warnings.warn(warn_msg)\n",
      "/Users/Pranshu/Desktop/Project/NLP_Series Analysis/gradio_venv/lib/python3.9/site-packages/torch/utils/data/dataloader.py:750: UserWarning: Length of IterableDataset <transformers.pipelines.pt_utils.PipelineChunkIterator object at 0x1432db940> was reported to be 2(when accessing len(dataloader)), but 7 samples have been fetched. \n",
      "  warnings.warn(warn_msg)\n",
      "/Users/Pranshu/Desktop/Project/NLP_Series Analysis/gradio_venv/lib/python3.9/site-packages/torch/utils/data/dataloader.py:750: UserWarning: Length of IterableDataset <transformers.pipelines.pt_utils.PipelineChunkIterator object at 0x1432db940> was reported to be 2(when accessing len(dataloader)), but 8 samples have been fetched. \n",
      "  warnings.warn(warn_msg)\n",
      "/Users/Pranshu/Desktop/Project/NLP_Series Analysis/gradio_venv/lib/python3.9/site-packages/torch/utils/data/dataloader.py:750: UserWarning: Length of IterableDataset <transformers.pipelines.pt_utils.PipelineChunkIterator object at 0x1432db940> was reported to be 2(when accessing len(dataloader)), but 9 samples have been fetched. \n",
      "  warnings.warn(warn_msg)\n",
      "/Users/Pranshu/Desktop/Project/NLP_Series Analysis/gradio_venv/lib/python3.9/site-packages/torch/utils/data/dataloader.py:750: UserWarning: Length of IterableDataset <transformers.pipelines.pt_utils.PipelineChunkIterator object at 0x1432db940> was reported to be 2(when accessing len(dataloader)), but 10 samples have been fetched. \n",
      "  warnings.warn(warn_msg)\n",
      "/Users/Pranshu/Desktop/Project/NLP_Series Analysis/gradio_venv/lib/python3.9/site-packages/torch/utils/data/dataloader.py:750: UserWarning: Length of IterableDataset <transformers.pipelines.pt_utils.PipelineChunkIterator object at 0x1432db940> was reported to be 2(when accessing len(dataloader)), but 11 samples have been fetched. \n",
      "  warnings.warn(warn_msg)\n",
      "/Users/Pranshu/Desktop/Project/NLP_Series Analysis/gradio_venv/lib/python3.9/site-packages/torch/utils/data/dataloader.py:750: UserWarning: Length of IterableDataset <transformers.pipelines.pt_utils.PipelineChunkIterator object at 0x1432db940> was reported to be 2(when accessing len(dataloader)), but 12 samples have been fetched. \n",
      "  warnings.warn(warn_msg)\n",
      "/Users/Pranshu/Desktop/Project/NLP_Series Analysis/gradio_venv/lib/python3.9/site-packages/torch/utils/data/dataloader.py:750: UserWarning: Length of IterableDataset <transformers.pipelines.pt_utils.PipelineChunkIterator object at 0x1432db940> was reported to be 2(when accessing len(dataloader)), but 13 samples have been fetched. \n",
      "  warnings.warn(warn_msg)\n",
      "/Users/Pranshu/Desktop/Project/NLP_Series Analysis/gradio_venv/lib/python3.9/site-packages/torch/utils/data/dataloader.py:750: UserWarning: Length of IterableDataset <transformers.pipelines.pt_utils.PipelineChunkIterator object at 0x1432db940> was reported to be 2(when accessing len(dataloader)), but 14 samples have been fetched. \n",
      "  warnings.warn(warn_msg)\n",
      "/Users/Pranshu/Desktop/Project/NLP_Series Analysis/gradio_venv/lib/python3.9/site-packages/torch/utils/data/dataloader.py:750: UserWarning: Length of IterableDataset <transformers.pipelines.pt_utils.PipelineChunkIterator object at 0x1432db940> was reported to be 2(when accessing len(dataloader)), but 15 samples have been fetched. \n",
      "  warnings.warn(warn_msg)\n",
      "/Users/Pranshu/Desktop/Project/NLP_Series Analysis/gradio_venv/lib/python3.9/site-packages/torch/utils/data/dataloader.py:750: UserWarning: Length of IterableDataset <transformers.pipelines.pt_utils.PipelineChunkIterator object at 0x1432db940> was reported to be 2(when accessing len(dataloader)), but 16 samples have been fetched. \n",
      "  warnings.warn(warn_msg)\n"
     ]
    }
   ],
   "source": [
    "output_themes = df['script'].apply(get_themes_inference)"
   ]
  },
  {
   "cell_type": "code",
   "execution_count": 32,
   "id": "12279ea3",
   "metadata": {},
   "outputs": [
    {
     "data": {
      "text/plain": [
       "0    {'dialogue': 0.9585433006286621, 'betrayal': 0...\n",
       "1    {'dialogue': 0.9606059789657593, 'sacrifice': ...\n",
       "2    {'dialogue': 0.9430067837238312, 'sacrifice': ...\n",
       "3    {'dialogue': 0.7951266169548035, 'sacrifice': ...\n",
       "4    {'dialogue': 0.9142744541168213, 'betrayal': 0...\n",
       "Name: script, dtype: object"
      ]
     },
     "execution_count": 32,
     "metadata": {},
     "output_type": "execute_result"
    }
   ],
   "source": [
    "output_themes"
   ]
  },
  {
   "cell_type": "code",
   "execution_count": 33,
   "id": "a4443ec3",
   "metadata": {},
   "outputs": [],
   "source": [
    "theme_df =pd.DataFrame(output_themes.to_list())"
   ]
  },
  {
   "cell_type": "code",
   "execution_count": 34,
   "id": "485f0d06",
   "metadata": {},
   "outputs": [
    {
     "data": {
      "text/html": [
       "<div>\n",
       "<style scoped>\n",
       "    .dataframe tbody tr th:only-of-type {\n",
       "        vertical-align: middle;\n",
       "    }\n",
       "\n",
       "    .dataframe tbody tr th {\n",
       "        vertical-align: top;\n",
       "    }\n",
       "\n",
       "    .dataframe thead th {\n",
       "        text-align: right;\n",
       "    }\n",
       "</style>\n",
       "<table border=\"1\" class=\"dataframe\">\n",
       "  <thead>\n",
       "    <tr style=\"text-align: right;\">\n",
       "      <th></th>\n",
       "      <th>dialogue</th>\n",
       "      <th>betrayal</th>\n",
       "      <th>battle</th>\n",
       "      <th>sacrifice</th>\n",
       "      <th>self development</th>\n",
       "      <th>hope</th>\n",
       "      <th>friendship</th>\n",
       "      <th>love</th>\n",
       "    </tr>\n",
       "  </thead>\n",
       "  <tbody>\n",
       "    <tr>\n",
       "      <th>0</th>\n",
       "      <td>0.958543</td>\n",
       "      <td>0.792708</td>\n",
       "      <td>0.756410</td>\n",
       "      <td>0.680434</td>\n",
       "      <td>0.798159</td>\n",
       "      <td>0.201669</td>\n",
       "      <td>0.072628</td>\n",
       "      <td>0.034141</td>\n",
       "    </tr>\n",
       "    <tr>\n",
       "      <th>1</th>\n",
       "      <td>0.960606</td>\n",
       "      <td>0.429944</td>\n",
       "      <td>0.684846</td>\n",
       "      <td>0.570703</td>\n",
       "      <td>0.482812</td>\n",
       "      <td>0.154533</td>\n",
       "      <td>0.046261</td>\n",
       "      <td>0.173262</td>\n",
       "    </tr>\n",
       "    <tr>\n",
       "      <th>2</th>\n",
       "      <td>0.943007</td>\n",
       "      <td>0.339492</td>\n",
       "      <td>0.707887</td>\n",
       "      <td>0.661518</td>\n",
       "      <td>0.724143</td>\n",
       "      <td>0.573633</td>\n",
       "      <td>0.342221</td>\n",
       "      <td>0.394864</td>\n",
       "    </tr>\n",
       "    <tr>\n",
       "      <th>3</th>\n",
       "      <td>0.795127</td>\n",
       "      <td>0.554723</td>\n",
       "      <td>0.723675</td>\n",
       "      <td>0.652153</td>\n",
       "      <td>0.861327</td>\n",
       "      <td>0.445291</td>\n",
       "      <td>0.525343</td>\n",
       "      <td>0.315334</td>\n",
       "    </tr>\n",
       "    <tr>\n",
       "      <th>4</th>\n",
       "      <td>0.914274</td>\n",
       "      <td>0.891102</td>\n",
       "      <td>0.783643</td>\n",
       "      <td>0.585849</td>\n",
       "      <td>0.550459</td>\n",
       "      <td>0.093763</td>\n",
       "      <td>0.073857</td>\n",
       "      <td>0.054071</td>\n",
       "    </tr>\n",
       "  </tbody>\n",
       "</table>\n",
       "</div>"
      ],
      "text/plain": [
       "   dialogue  betrayal    battle  sacrifice  self development      hope  \\\n",
       "0  0.958543  0.792708  0.756410   0.680434          0.798159  0.201669   \n",
       "1  0.960606  0.429944  0.684846   0.570703          0.482812  0.154533   \n",
       "2  0.943007  0.339492  0.707887   0.661518          0.724143  0.573633   \n",
       "3  0.795127  0.554723  0.723675   0.652153          0.861327  0.445291   \n",
       "4  0.914274  0.891102  0.783643   0.585849          0.550459  0.093763   \n",
       "\n",
       "   friendship      love  \n",
       "0    0.072628  0.034141  \n",
       "1    0.046261  0.173262  \n",
       "2    0.342221  0.394864  \n",
       "3    0.525343  0.315334  \n",
       "4    0.073857  0.054071  "
      ]
     },
     "execution_count": 34,
     "metadata": {},
     "output_type": "execute_result"
    }
   ],
   "source": [
    "theme_df"
   ]
  },
  {
   "cell_type": "code",
   "execution_count": 35,
   "id": "dfce72c1",
   "metadata": {},
   "outputs": [
    {
     "data": {
      "text/html": [
       "<div>\n",
       "<style scoped>\n",
       "    .dataframe tbody tr th:only-of-type {\n",
       "        vertical-align: middle;\n",
       "    }\n",
       "\n",
       "    .dataframe tbody tr th {\n",
       "        vertical-align: top;\n",
       "    }\n",
       "\n",
       "    .dataframe thead th {\n",
       "        text-align: right;\n",
       "    }\n",
       "</style>\n",
       "<table border=\"1\" class=\"dataframe\">\n",
       "  <thead>\n",
       "    <tr style=\"text-align: right;\">\n",
       "      <th></th>\n",
       "      <th>episode</th>\n",
       "      <th>script</th>\n",
       "      <th>dialogue</th>\n",
       "      <th>betrayal</th>\n",
       "      <th>battle</th>\n",
       "      <th>sacrifice</th>\n",
       "      <th>self development</th>\n",
       "      <th>hope</th>\n",
       "      <th>friendship</th>\n",
       "      <th>love</th>\n",
       "    </tr>\n",
       "  </thead>\n",
       "  <tbody>\n",
       "    <tr>\n",
       "      <th>0</th>\n",
       "      <td>1</td>\n",
       "      <td>A long time ago, a powerful demon fox appeared...</td>\n",
       "      <td>0.958543</td>\n",
       "      <td>0.792708</td>\n",
       "      <td>0.756410</td>\n",
       "      <td>0.680434</td>\n",
       "      <td>0.798159</td>\n",
       "      <td>0.201669</td>\n",
       "      <td>0.072628</td>\n",
       "      <td>0.034141</td>\n",
       "    </tr>\n",
       "    <tr>\n",
       "      <th>1</th>\n",
       "      <td>2</td>\n",
       "      <td>C'mon!\\n Running like a fugitive,\\n Being chas...</td>\n",
       "      <td>0.960606</td>\n",
       "      <td>0.429944</td>\n",
       "      <td>0.684846</td>\n",
       "      <td>0.570703</td>\n",
       "      <td>0.482812</td>\n",
       "      <td>0.154533</td>\n",
       "      <td>0.046261</td>\n",
       "      <td>0.173262</td>\n",
       "    </tr>\n",
       "    <tr>\n",
       "      <th>2</th>\n",
       "      <td>3</td>\n",
       "      <td>C'mon!\\n Running like a fugitive,\\n Being chas...</td>\n",
       "      <td>0.943007</td>\n",
       "      <td>0.339492</td>\n",
       "      <td>0.707887</td>\n",
       "      <td>0.661518</td>\n",
       "      <td>0.724143</td>\n",
       "      <td>0.573633</td>\n",
       "      <td>0.342221</td>\n",
       "      <td>0.394864</td>\n",
       "    </tr>\n",
       "    <tr>\n",
       "      <th>3</th>\n",
       "      <td>4</td>\n",
       "      <td>C'mon!\\n Running like a fugitive,\\n Being chas...</td>\n",
       "      <td>0.795127</td>\n",
       "      <td>0.554723</td>\n",
       "      <td>0.723675</td>\n",
       "      <td>0.652153</td>\n",
       "      <td>0.861327</td>\n",
       "      <td>0.445291</td>\n",
       "      <td>0.525343</td>\n",
       "      <td>0.315334</td>\n",
       "    </tr>\n",
       "    <tr>\n",
       "      <th>4</th>\n",
       "      <td>5</td>\n",
       "      <td>C'mon!\\n Running like a fugitive,\\n Being chas...</td>\n",
       "      <td>0.914274</td>\n",
       "      <td>0.891102</td>\n",
       "      <td>0.783643</td>\n",
       "      <td>0.585849</td>\n",
       "      <td>0.550459</td>\n",
       "      <td>0.093763</td>\n",
       "      <td>0.073857</td>\n",
       "      <td>0.054071</td>\n",
       "    </tr>\n",
       "  </tbody>\n",
       "</table>\n",
       "</div>"
      ],
      "text/plain": [
       "   episode                                             script  dialogue  \\\n",
       "0        1  A long time ago, a powerful demon fox appeared...  0.958543   \n",
       "1        2  C'mon!\\n Running like a fugitive,\\n Being chas...  0.960606   \n",
       "2        3  C'mon!\\n Running like a fugitive,\\n Being chas...  0.943007   \n",
       "3        4  C'mon!\\n Running like a fugitive,\\n Being chas...  0.795127   \n",
       "4        5  C'mon!\\n Running like a fugitive,\\n Being chas...  0.914274   \n",
       "\n",
       "   betrayal    battle  sacrifice  self development      hope  friendship  \\\n",
       "0  0.792708  0.756410   0.680434          0.798159  0.201669    0.072628   \n",
       "1  0.429944  0.684846   0.570703          0.482812  0.154533    0.046261   \n",
       "2  0.339492  0.707887   0.661518          0.724143  0.573633    0.342221   \n",
       "3  0.554723  0.723675   0.652153          0.861327  0.445291    0.525343   \n",
       "4  0.891102  0.783643   0.585849          0.550459  0.093763    0.073857   \n",
       "\n",
       "       love  \n",
       "0  0.034141  \n",
       "1  0.173262  \n",
       "2  0.394864  \n",
       "3  0.315334  \n",
       "4  0.054071  "
      ]
     },
     "execution_count": 35,
     "metadata": {},
     "output_type": "execute_result"
    }
   ],
   "source": [
    "df[theme_df.columns] = theme_df\n",
    "df "
   ]
  },
  {
   "cell_type": "code",
   "execution_count": 36,
   "id": "a4bc7958",
   "metadata": {},
   "outputs": [
    {
     "data": {
      "text/html": [
       "<div>\n",
       "<style scoped>\n",
       "    .dataframe tbody tr th:only-of-type {\n",
       "        vertical-align: middle;\n",
       "    }\n",
       "\n",
       "    .dataframe tbody tr th {\n",
       "        vertical-align: top;\n",
       "    }\n",
       "\n",
       "    .dataframe thead th {\n",
       "        text-align: right;\n",
       "    }\n",
       "</style>\n",
       "<table border=\"1\" class=\"dataframe\">\n",
       "  <thead>\n",
       "    <tr style=\"text-align: right;\">\n",
       "      <th></th>\n",
       "      <th>episode</th>\n",
       "      <th>script</th>\n",
       "      <th>dialogue</th>\n",
       "      <th>betrayal</th>\n",
       "      <th>battle</th>\n",
       "      <th>sacrifice</th>\n",
       "      <th>self development</th>\n",
       "      <th>hope</th>\n",
       "      <th>friendship</th>\n",
       "      <th>love</th>\n",
       "    </tr>\n",
       "  </thead>\n",
       "  <tbody>\n",
       "    <tr>\n",
       "      <th>0</th>\n",
       "      <td>1</td>\n",
       "      <td>A long time ago, a powerful demon fox appeared...</td>\n",
       "      <td>0.958543</td>\n",
       "      <td>0.792708</td>\n",
       "      <td>0.756410</td>\n",
       "      <td>0.680434</td>\n",
       "      <td>0.798159</td>\n",
       "      <td>0.201669</td>\n",
       "      <td>0.072628</td>\n",
       "      <td>0.034141</td>\n",
       "    </tr>\n",
       "    <tr>\n",
       "      <th>1</th>\n",
       "      <td>2</td>\n",
       "      <td>C'mon!\\n Running like a fugitive,\\n Being chas...</td>\n",
       "      <td>0.960606</td>\n",
       "      <td>0.429944</td>\n",
       "      <td>0.684846</td>\n",
       "      <td>0.570703</td>\n",
       "      <td>0.482812</td>\n",
       "      <td>0.154533</td>\n",
       "      <td>0.046261</td>\n",
       "      <td>0.173262</td>\n",
       "    </tr>\n",
       "    <tr>\n",
       "      <th>2</th>\n",
       "      <td>3</td>\n",
       "      <td>C'mon!\\n Running like a fugitive,\\n Being chas...</td>\n",
       "      <td>0.943007</td>\n",
       "      <td>0.339492</td>\n",
       "      <td>0.707887</td>\n",
       "      <td>0.661518</td>\n",
       "      <td>0.724143</td>\n",
       "      <td>0.573633</td>\n",
       "      <td>0.342221</td>\n",
       "      <td>0.394864</td>\n",
       "    </tr>\n",
       "    <tr>\n",
       "      <th>3</th>\n",
       "      <td>4</td>\n",
       "      <td>C'mon!\\n Running like a fugitive,\\n Being chas...</td>\n",
       "      <td>0.795127</td>\n",
       "      <td>0.554723</td>\n",
       "      <td>0.723675</td>\n",
       "      <td>0.652153</td>\n",
       "      <td>0.861327</td>\n",
       "      <td>0.445291</td>\n",
       "      <td>0.525343</td>\n",
       "      <td>0.315334</td>\n",
       "    </tr>\n",
       "    <tr>\n",
       "      <th>4</th>\n",
       "      <td>5</td>\n",
       "      <td>C'mon!\\n Running like a fugitive,\\n Being chas...</td>\n",
       "      <td>0.914274</td>\n",
       "      <td>0.891102</td>\n",
       "      <td>0.783643</td>\n",
       "      <td>0.585849</td>\n",
       "      <td>0.550459</td>\n",
       "      <td>0.093763</td>\n",
       "      <td>0.073857</td>\n",
       "      <td>0.054071</td>\n",
       "    </tr>\n",
       "  </tbody>\n",
       "</table>\n",
       "</div>"
      ],
      "text/plain": [
       "   episode                                             script  dialogue  \\\n",
       "0        1  A long time ago, a powerful demon fox appeared...  0.958543   \n",
       "1        2  C'mon!\\n Running like a fugitive,\\n Being chas...  0.960606   \n",
       "2        3  C'mon!\\n Running like a fugitive,\\n Being chas...  0.943007   \n",
       "3        4  C'mon!\\n Running like a fugitive,\\n Being chas...  0.795127   \n",
       "4        5  C'mon!\\n Running like a fugitive,\\n Being chas...  0.914274   \n",
       "\n",
       "   betrayal    battle  sacrifice  self development      hope  friendship  \\\n",
       "0  0.792708  0.756410   0.680434          0.798159  0.201669    0.072628   \n",
       "1  0.429944  0.684846   0.570703          0.482812  0.154533    0.046261   \n",
       "2  0.339492  0.707887   0.661518          0.724143  0.573633    0.342221   \n",
       "3  0.554723  0.723675   0.652153          0.861327  0.445291    0.525343   \n",
       "4  0.891102  0.783643   0.585849          0.550459  0.093763    0.073857   \n",
       "\n",
       "       love  \n",
       "0  0.034141  \n",
       "1  0.173262  \n",
       "2  0.394864  \n",
       "3  0.315334  \n",
       "4  0.054071  "
      ]
     },
     "execution_count": 36,
     "metadata": {},
     "output_type": "execute_result"
    }
   ],
   "source": [
    "df"
   ]
  },
  {
   "cell_type": "markdown",
   "id": "3a5cdaa1",
   "metadata": {},
   "source": [
    "# Visualize O/P\n"
   ]
  },
  {
   "cell_type": "code",
   "execution_count": 37,
   "id": "54eb83f2",
   "metadata": {},
   "outputs": [],
   "source": [
    "df = df.drop('dialogue',axis=1)"
   ]
  },
  {
   "cell_type": "code",
   "execution_count": 38,
   "id": "29347208",
   "metadata": {},
   "outputs": [
    {
     "data": {
      "text/html": [
       "<div>\n",
       "<style scoped>\n",
       "    .dataframe tbody tr th:only-of-type {\n",
       "        vertical-align: middle;\n",
       "    }\n",
       "\n",
       "    .dataframe tbody tr th {\n",
       "        vertical-align: top;\n",
       "    }\n",
       "\n",
       "    .dataframe thead th {\n",
       "        text-align: right;\n",
       "    }\n",
       "</style>\n",
       "<table border=\"1\" class=\"dataframe\">\n",
       "  <thead>\n",
       "    <tr style=\"text-align: right;\">\n",
       "      <th></th>\n",
       "      <th>theme</th>\n",
       "      <th>score</th>\n",
       "    </tr>\n",
       "  </thead>\n",
       "  <tbody>\n",
       "    <tr>\n",
       "      <th>0</th>\n",
       "      <td>betrayal</td>\n",
       "      <td>3.007970</td>\n",
       "    </tr>\n",
       "    <tr>\n",
       "      <th>1</th>\n",
       "      <td>battle</td>\n",
       "      <td>3.656461</td>\n",
       "    </tr>\n",
       "    <tr>\n",
       "      <th>2</th>\n",
       "      <td>sacrifice</td>\n",
       "      <td>3.150657</td>\n",
       "    </tr>\n",
       "    <tr>\n",
       "      <th>3</th>\n",
       "      <td>self development</td>\n",
       "      <td>3.416900</td>\n",
       "    </tr>\n",
       "    <tr>\n",
       "      <th>4</th>\n",
       "      <td>hope</td>\n",
       "      <td>1.468889</td>\n",
       "    </tr>\n",
       "    <tr>\n",
       "      <th>5</th>\n",
       "      <td>friendship</td>\n",
       "      <td>1.060310</td>\n",
       "    </tr>\n",
       "    <tr>\n",
       "      <th>6</th>\n",
       "      <td>love</td>\n",
       "      <td>0.971672</td>\n",
       "    </tr>\n",
       "  </tbody>\n",
       "</table>\n",
       "</div>"
      ],
      "text/plain": [
       "              theme     score\n",
       "0          betrayal  3.007970\n",
       "1            battle  3.656461\n",
       "2         sacrifice  3.150657\n",
       "3  self development  3.416900\n",
       "4              hope  1.468889\n",
       "5        friendship  1.060310\n",
       "6              love  0.971672"
      ]
     },
     "execution_count": 38,
     "metadata": {},
     "output_type": "execute_result"
    }
   ],
   "source": [
    "theme_output = df.drop(['episode','script'],axis=1).sum().reset_index()\n",
    "theme_output.columns = ['theme','score']\n",
    "theme_output"
   ]
  },
  {
   "cell_type": "code",
   "execution_count": 39,
   "id": "a2fecd53",
   "metadata": {},
   "outputs": [],
   "source": [
    "import matplotlib.pyplot as plt\n",
    "import seaborn as sns"
   ]
  },
  {
   "cell_type": "code",
   "execution_count": 40,
   "id": "b53da47d",
   "metadata": {},
   "outputs": [
    {
     "data": {
      "image/png": "[encoded data removed]",
      "text/plain": [
       "<Figure size 640x480 with 1 Axes>"
      ]
     },
     "metadata": {},
     "output_type": "display_data"
    }
   ],
   "source": [
    "sns.barplot(data = theme_output ,x=\"theme\",y=\"score\" )\n",
    "plt.xticks(rotation=45)\n",
    "plt.show()"
   ]
  }
 ],
 "metadata": {
  "kernelspec": {
   "display_name": "gradio_venv",
   "language": "python",
   "name": "python3"
  },
  "language_info": {
   "codemirror_mode": {
    "name": "ipython",
    "version": 3
   },
   "file_extension": ".py",
   "mimetype": "text/x-python",
   "name": "python",
   "nbconvert_exporter": "python",
   "pygments_lexer": "ipython3",
   "version": "3.9.6"
  }
 },
 "nbformat": 4,
 "nbformat_minor": 5
}
